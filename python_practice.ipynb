{
  "nbformat": 4,
  "nbformat_minor": 0,
  "metadata": {
    "colab": {
      "provenance": [],
      "authorship_tag": "ABX9TyOO5bMF7RmwuwfIcEvYvZym",
      "include_colab_link": true
    },
    "kernelspec": {
      "name": "python3",
      "display_name": "Python 3"
    },
    "language_info": {
      "name": "python"
    }
  },
  "cells": [
    {
      "cell_type": "markdown",
      "metadata": {
        "id": "view-in-github",
        "colab_type": "text"
      },
      "source": [
        "<a href=\"https://colab.research.google.com/github/shafeeq8904/pythonpractice/blob/main/python_practice.ipynb\" target=\"_parent\"><img src=\"https://colab.research.google.com/assets/colab-badge.svg\" alt=\"Open In Colab\"/></a>"
      ]
    },
    {
      "cell_type": "markdown",
      "source": [
        "basic python practise"
      ],
      "metadata": {
        "id": "Hr6Feb4RWpUq"
      }
    },
    {
      "cell_type": "code",
      "source": [
        "'hello'"
      ],
      "metadata": {
        "colab": {
          "base_uri": "https://localhost:8080/",
          "height": 35
        },
        "id": "hAvr0qiJ5Zla",
        "outputId": "33851da4-175c-4a78-9028-6f04b51adf57"
      },
      "execution_count": null,
      "outputs": [
        {
          "output_type": "execute_result",
          "data": {
            "text/plain": [
              "'hello'"
            ],
            "application/vnd.google.colaboratory.intrinsic+json": {
              "type": "string"
            }
          },
          "metadata": {},
          "execution_count": 1
        }
      ]
    },
    {
      "cell_type": "code",
      "source": [
        "\"world\""
      ],
      "metadata": {
        "colab": {
          "base_uri": "https://localhost:8080/",
          "height": 35
        },
        "id": "mxNGyE4L68sj",
        "outputId": "5d8d5c36-62c5-483a-e4dd-e9763bcbbf8b"
      },
      "execution_count": null,
      "outputs": [
        {
          "output_type": "execute_result",
          "data": {
            "text/plain": [
              "'world'"
            ],
            "application/vnd.google.colaboratory.intrinsic+json": {
              "type": "string"
            }
          },
          "metadata": {},
          "execution_count": 2
        }
      ]
    },
    {
      "cell_type": "markdown",
      "source": [
        "indexing"
      ],
      "metadata": {
        "id": "6WfVtXKSW8fL"
      }
    },
    {
      "cell_type": "code",
      "source": [
        "my=\"shafeeq\"\n",
        "my[2]"
      ],
      "metadata": {
        "colab": {
          "base_uri": "https://localhost:8080/",
          "height": 35
        },
        "id": "vr-XfZXM6_QJ",
        "outputId": "7e17bacf-9126-4c5c-a925-f4a634360d63"
      },
      "execution_count": null,
      "outputs": [
        {
          "output_type": "execute_result",
          "data": {
            "text/plain": [
              "'a'"
            ],
            "application/vnd.google.colaboratory.intrinsic+json": {
              "type": "string"
            }
          },
          "metadata": {},
          "execution_count": 3
        }
      ]
    },
    {
      "cell_type": "code",
      "source": [
        "my[-1]"
      ],
      "metadata": {
        "colab": {
          "base_uri": "https://localhost:8080/",
          "height": 35
        },
        "id": "OkUJm6LI8nqL",
        "outputId": "82a2f529-2f98-445b-90ad-07cf88c13174"
      },
      "execution_count": null,
      "outputs": [
        {
          "output_type": "execute_result",
          "data": {
            "text/plain": [
              "'q'"
            ],
            "application/vnd.google.colaboratory.intrinsic+json": {
              "type": "string"
            }
          },
          "metadata": {},
          "execution_count": 4
        }
      ]
    },
    {
      "cell_type": "markdown",
      "source": [
        "slicing"
      ],
      "metadata": {
        "id": "qcGdlQ_XXA5L"
      }
    },
    {
      "cell_type": "code",
      "source": [
        "my[1:6]"
      ],
      "metadata": {
        "colab": {
          "base_uri": "https://localhost:8080/",
          "height": 35
        },
        "id": "oPUDXhJp8s0f",
        "outputId": "191dbab5-b649-4fbe-ee7f-4f6646a8c968"
      },
      "execution_count": null,
      "outputs": [
        {
          "output_type": "execute_result",
          "data": {
            "text/plain": [
              "'hafee'"
            ],
            "application/vnd.google.colaboratory.intrinsic+json": {
              "type": "string"
            }
          },
          "metadata": {},
          "execution_count": 6
        }
      ]
    },
    {
      "cell_type": "code",
      "source": [
        "my[::-1]"
      ],
      "metadata": {
        "colab": {
          "base_uri": "https://localhost:8080/",
          "height": 35
        },
        "id": "M9LiTOib89MM",
        "outputId": "1bde2440-7655-4946-8e73-d94525ce5f6f"
      },
      "execution_count": null,
      "outputs": [
        {
          "output_type": "execute_result",
          "data": {
            "text/plain": [
              "'qeefahs'"
            ],
            "application/vnd.google.colaboratory.intrinsic+json": {
              "type": "string"
            }
          },
          "metadata": {},
          "execution_count": 7
        }
      ]
    },
    {
      "cell_type": "code",
      "source": [
        "my=\"hello world\"\n",
        "my.split()"
      ],
      "metadata": {
        "colab": {
          "base_uri": "https://localhost:8080/"
        },
        "id": "AOOFP0Nw-W2K",
        "outputId": "5a390e65-ed7e-43c5-a4fd-db962eb3087c"
      },
      "execution_count": null,
      "outputs": [
        {
          "output_type": "execute_result",
          "data": {
            "text/plain": [
              "['hello', 'world']"
            ]
          },
          "metadata": {},
          "execution_count": 13
        }
      ]
    },
    {
      "cell_type": "code",
      "source": [
        "my=\"hi da from madurai\"\n",
        "my.split(\"a\")"
      ],
      "metadata": {
        "colab": {
          "base_uri": "https://localhost:8080/"
        },
        "id": "OP546M55Dl3I",
        "outputId": "939e114d-4a4b-4b3f-dcc8-e3bdc026efcf"
      },
      "execution_count": null,
      "outputs": [
        {
          "output_type": "execute_result",
          "data": {
            "text/plain": [
              "['hi d', ' from m', 'dur', 'i']"
            ]
          },
          "metadata": {},
          "execution_count": 14
        }
      ]
    },
    {
      "cell_type": "code",
      "source": [
        "print(\"shafeeq {}\".format(\"is good boy\"))\n",
        "print(\"shafeeq {1} {2} \".format(\"fox\",\"lox\",\"box\"))"
      ],
      "metadata": {
        "colab": {
          "base_uri": "https://localhost:8080/"
        },
        "id": "jainYLM4Eo4U",
        "outputId": "2a81817f-d2da-4a50-c939-5b00e141825d"
      },
      "execution_count": null,
      "outputs": [
        {
          "output_type": "stream",
          "name": "stdout",
          "text": [
            "shafeeq is good boy\n",
            "shafeeq lox box \n"
          ]
        }
      ]
    },
    {
      "cell_type": "code",
      "source": [
        " s=\" shafeeq\"\n",
        " print(f\"this is{s}\")"
      ],
      "metadata": {
        "colab": {
          "base_uri": "https://localhost:8080/"
        },
        "id": "c-_j0hgDH21X",
        "outputId": "0ece5093-8629-4650-9893-a533eeab0d1f"
      },
      "execution_count": null,
      "outputs": [
        {
          "output_type": "stream",
          "name": "stdout",
          "text": [
            "this is shafeeq\n"
          ]
        }
      ]
    },
    {
      "cell_type": "markdown",
      "source": [
        "dictionary"
      ],
      "metadata": {
        "id": "ZW5CErC3XGgr"
      }
    },
    {
      "cell_type": "code",
      "source": [
        "dic={'key1':'sha','key2':'feeq'}\n",
        "dic['key1'].upper()\n",
        "dic['key1']='cha'\n",
        "dic"
      ],
      "metadata": {
        "colab": {
          "base_uri": "https://localhost:8080/"
        },
        "id": "kPDYIbsOdF9-",
        "outputId": "697a7ac0-bb70-4408-f35b-65616085e3a9"
      },
      "execution_count": null,
      "outputs": [
        {
          "output_type": "execute_result",
          "data": {
            "text/plain": [
              "{'key1': 'cha', 'key2': 'feeq'}"
            ]
          },
          "metadata": {},
          "execution_count": 5
        }
      ]
    },
    {
      "cell_type": "code",
      "source": [
        "dic={'key1':'sha','key2':'feeq'}\n",
        "dic.keys()"
      ],
      "metadata": {
        "colab": {
          "base_uri": "https://localhost:8080/"
        },
        "id": "L8Rq1oa7V3O-",
        "outputId": "75234e43-90a6-4648-f026-e56a69d65457"
      },
      "execution_count": null,
      "outputs": [
        {
          "output_type": "execute_result",
          "data": {
            "text/plain": [
              "dict_keys(['key1', 'key2'])"
            ]
          },
          "metadata": {},
          "execution_count": 1
        }
      ]
    },
    {
      "cell_type": "code",
      "source": [
        "d={'key1':'shafeeq','key2':'ahmed'}\n",
        "d.values()"
      ],
      "metadata": {
        "colab": {
          "base_uri": "https://localhost:8080/"
        },
        "id": "rR92n0gTWWoy",
        "outputId": "3a900b03-a92c-423c-8e8c-4efd1cc70fbd"
      },
      "execution_count": null,
      "outputs": [
        {
          "output_type": "execute_result",
          "data": {
            "text/plain": [
              "dict_values(['shafeeq', 'ahmed'])"
            ]
          },
          "metadata": {},
          "execution_count": 2
        }
      ]
    },
    {
      "cell_type": "code",
      "source": [
        "dic={'key1':'sha','key2':'feeq'}\n",
        "dic['key1']"
      ],
      "metadata": {
        "colab": {
          "base_uri": "https://localhost:8080/",
          "height": 35
        },
        "id": "XQ1DD2y1W4jt",
        "outputId": "91eed861-8d47-49ec-a043-82901cb7ff7e"
      },
      "execution_count": null,
      "outputs": [
        {
          "output_type": "execute_result",
          "data": {
            "text/plain": [
              "'sha'"
            ],
            "application/vnd.google.colaboratory.intrinsic+json": {
              "type": "string"
            }
          },
          "metadata": {},
          "execution_count": 3
        }
      ]
    },
    {
      "cell_type": "markdown",
      "source": [
        "set"
      ],
      "metadata": {
        "id": "TK7gggc_XJ8e"
      }
    },
    {
      "cell_type": "code",
      "source": [
        "la= set('mississsippi')\n",
        "la"
      ],
      "metadata": {
        "id": "rGoNhCz6K7dX",
        "colab": {
          "base_uri": "https://localhost:8080/"
        },
        "outputId": "36ba757a-2025-4a8c-da97-43ab03098810"
      },
      "execution_count": null,
      "outputs": [
        {
          "output_type": "execute_result",
          "data": {
            "text/plain": [
              "{'i', 'm', 'p', 's'}"
            ]
          },
          "metadata": {},
          "execution_count": 6
        }
      ]
    },
    {
      "cell_type": "code",
      "source": [
        "pwd\n"
      ],
      "metadata": {
        "colab": {
          "base_uri": "https://localhost:8080/",
          "height": 35
        },
        "id": "tlUq51E6lP9h",
        "outputId": "6dc48b81-b1c4-4899-dc91-010136fed575"
      },
      "execution_count": null,
      "outputs": [
        {
          "output_type": "execute_result",
          "data": {
            "text/plain": [
              "'/content'"
            ],
            "application/vnd.google.colaboratory.intrinsic+json": {
              "type": "string"
            }
          },
          "metadata": {},
          "execution_count": 7
        }
      ]
    },
    {
      "cell_type": "markdown",
      "source": [
        "  python statements , control flow statements make use of colons and indentation"
      ],
      "metadata": {
        "id": "QWiZi05FXR4O"
      }
    },
    {
      "cell_type": "code",
      "source": [
        "kaka ='black'\n",
        "\n",
        "if kaka=='blue':\n",
        "  print('kaka is blue')\n",
        "\n",
        "elif kaka=='red':\n",
        "  print('kaka is red')\n",
        "\n",
        "else:\n",
        "  print('kaka is always black')"
      ],
      "metadata": {
        "colab": {
          "base_uri": "https://localhost:8080/"
        },
        "id": "CuJnvkx_XWkX",
        "outputId": "65a22b95-4ec2-482f-8d60-bb612a41cb86"
      },
      "execution_count": null,
      "outputs": [
        {
          "output_type": "stream",
          "name": "stdout",
          "text": [
            "kaka is always black\n"
          ]
        }
      ]
    },
    {
      "cell_type": "markdown",
      "source": [
        "for loops"
      ],
      "metadata": {
        "id": "i0_jtNQniR4G"
      }
    },
    {
      "cell_type": "code",
      "source": [
        "list1=[1,2,3,4,5,6,7,8,9,10]\n",
        "\n",
        "for num in list1:\n",
        "  print(num)"
      ],
      "metadata": {
        "colab": {
          "base_uri": "https://localhost:8080/"
        },
        "id": "byUlyBCniTyd",
        "outputId": "36832173-773e-46c7-ad88-9fa5ca351813"
      },
      "execution_count": null,
      "outputs": [
        {
          "output_type": "stream",
          "name": "stdout",
          "text": [
            "1\n",
            "2\n",
            "3\n",
            "4\n",
            "5\n",
            "6\n",
            "7\n",
            "8\n",
            "9\n",
            "10\n"
          ]
        }
      ]
    },
    {
      "cell_type": "code",
      "source": [
        "list1=[1,2,3,4,5,6,7,8,9,10]\n",
        "\n",
        "for num in list1:\n",
        "  if num%2==0:\n",
        "    print(num)\n",
        "\n",
        "  else:\n",
        "    print(f' odd number: {num}')"
      ],
      "metadata": {
        "colab": {
          "base_uri": "https://localhost:8080/"
        },
        "id": "FFI4mSxaimso",
        "outputId": "371b2d1f-8dde-4f73-e97d-835a52428f36"
      },
      "execution_count": null,
      "outputs": [
        {
          "output_type": "stream",
          "name": "stdout",
          "text": [
            " odd number: 1\n",
            "2\n",
            " odd number: 3\n",
            "4\n",
            " odd number: 5\n",
            "6\n",
            " odd number: 7\n",
            "8\n",
            " odd number: 9\n",
            "10\n"
          ]
        }
      ]
    },
    {
      "cell_type": "markdown",
      "source": [
        "tuple unpacking"
      ],
      "metadata": {
        "id": "HioOL8YMkRW6"
      }
    },
    {
      "cell_type": "code",
      "source": [
        "listu=[('orange','banana'),('orange','apple'),('cherry','pine')]\n",
        "\n",
        "for a,b in listu:\n",
        "  print(a)"
      ],
      "metadata": {
        "colab": {
          "base_uri": "https://localhost:8080/"
        },
        "id": "vmIMXXSVkU-Y",
        "outputId": "d1277344-c435-48ac-c94e-57a1e167cf0c"
      },
      "execution_count": null,
      "outputs": [
        {
          "output_type": "stream",
          "name": "stdout",
          "text": [
            "orange\n",
            "orange\n",
            "cherry\n"
          ]
        }
      ]
    },
    {
      "cell_type": "code",
      "source": [
        "letter='shafeeq ahmed'\n",
        "for item in letter:\n",
        "  print(item)"
      ],
      "metadata": {
        "id": "vHeYzh_Kfyhm",
        "outputId": "7f74544a-7c93-4fc1-e6ed-816b2bae2101",
        "colab": {
          "base_uri": "https://localhost:8080/"
        }
      },
      "execution_count": 4,
      "outputs": [
        {
          "output_type": "stream",
          "name": "stdout",
          "text": [
            "s\n",
            "h\n",
            "a\n",
            "f\n",
            "e\n",
            "e\n",
            "q\n",
            " \n",
            "a\n",
            "h\n",
            "m\n",
            "e\n",
            "d\n"
          ]
        }
      ]
    }
  ]
}