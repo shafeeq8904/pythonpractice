{
  "nbformat": 4,
  "nbformat_minor": 0,
  "metadata": {
    "colab": {
      "provenance": [],
      "include_colab_link": true
    },
    "kernelspec": {
      "name": "python3",
      "display_name": "Python 3"
    },
    "language_info": {
      "name": "python"
    }
  },
  "cells": [
    {
      "cell_type": "markdown",
      "metadata": {
        "id": "view-in-github",
        "colab_type": "text"
      },
      "source": [
        "<a href=\"https://colab.research.google.com/github/shafeeq8904/pythonpractice/blob/main/python_practice.ipynb\" target=\"_parent\"><img src=\"https://colab.research.google.com/assets/colab-badge.svg\" alt=\"Open In Colab\"/></a>"
      ]
    },
    {
      "cell_type": "markdown",
      "source": [
        "basic python practise"
      ],
      "metadata": {
        "id": "Hr6Feb4RWpUq"
      }
    },
    {
      "cell_type": "code",
      "source": [
        "'hello'"
      ],
      "metadata": {
        "colab": {
          "base_uri": "https://localhost:8080/",
          "height": 35
        },
        "id": "hAvr0qiJ5Zla",
        "outputId": "33851da4-175c-4a78-9028-6f04b51adf57"
      },
      "execution_count": null,
      "outputs": [
        {
          "output_type": "execute_result",
          "data": {
            "text/plain": [
              "'hello'"
            ],
            "application/vnd.google.colaboratory.intrinsic+json": {
              "type": "string"
            }
          },
          "metadata": {},
          "execution_count": 1
        }
      ]
    },
    {
      "cell_type": "code",
      "source": [
        "\"world\""
      ],
      "metadata": {
        "colab": {
          "base_uri": "https://localhost:8080/",
          "height": 35
        },
        "id": "mxNGyE4L68sj",
        "outputId": "5d8d5c36-62c5-483a-e4dd-e9763bcbbf8b"
      },
      "execution_count": null,
      "outputs": [
        {
          "output_type": "execute_result",
          "data": {
            "text/plain": [
              "'world'"
            ],
            "application/vnd.google.colaboratory.intrinsic+json": {
              "type": "string"
            }
          },
          "metadata": {},
          "execution_count": 2
        }
      ]
    },
    {
      "cell_type": "markdown",
      "source": [
        "indexing"
      ],
      "metadata": {
        "id": "6WfVtXKSW8fL"
      }
    },
    {
      "cell_type": "code",
      "source": [
        "my=\"shafeeq\"\n",
        "my[2]"
      ],
      "metadata": {
        "colab": {
          "base_uri": "https://localhost:8080/",
          "height": 35
        },
        "id": "vr-XfZXM6_QJ",
        "outputId": "7e17bacf-9126-4c5c-a925-f4a634360d63"
      },
      "execution_count": null,
      "outputs": [
        {
          "output_type": "execute_result",
          "data": {
            "text/plain": [
              "'a'"
            ],
            "application/vnd.google.colaboratory.intrinsic+json": {
              "type": "string"
            }
          },
          "metadata": {},
          "execution_count": 3
        }
      ]
    },
    {
      "cell_type": "code",
      "source": [
        "my[-1]"
      ],
      "metadata": {
        "colab": {
          "base_uri": "https://localhost:8080/",
          "height": 35
        },
        "id": "OkUJm6LI8nqL",
        "outputId": "82a2f529-2f98-445b-90ad-07cf88c13174"
      },
      "execution_count": null,
      "outputs": [
        {
          "output_type": "execute_result",
          "data": {
            "text/plain": [
              "'q'"
            ],
            "application/vnd.google.colaboratory.intrinsic+json": {
              "type": "string"
            }
          },
          "metadata": {},
          "execution_count": 4
        }
      ]
    },
    {
      "cell_type": "markdown",
      "source": [
        "slicing"
      ],
      "metadata": {
        "id": "qcGdlQ_XXA5L"
      }
    },
    {
      "cell_type": "code",
      "source": [
        "my[1:6]"
      ],
      "metadata": {
        "colab": {
          "base_uri": "https://localhost:8080/",
          "height": 35
        },
        "id": "oPUDXhJp8s0f",
        "outputId": "191dbab5-b649-4fbe-ee7f-4f6646a8c968"
      },
      "execution_count": null,
      "outputs": [
        {
          "output_type": "execute_result",
          "data": {
            "text/plain": [
              "'hafee'"
            ],
            "application/vnd.google.colaboratory.intrinsic+json": {
              "type": "string"
            }
          },
          "metadata": {},
          "execution_count": 6
        }
      ]
    },
    {
      "cell_type": "code",
      "source": [
        "my[::-1]"
      ],
      "metadata": {
        "colab": {
          "base_uri": "https://localhost:8080/",
          "height": 35
        },
        "id": "M9LiTOib89MM",
        "outputId": "1bde2440-7655-4946-8e73-d94525ce5f6f"
      },
      "execution_count": null,
      "outputs": [
        {
          "output_type": "execute_result",
          "data": {
            "text/plain": [
              "'qeefahs'"
            ],
            "application/vnd.google.colaboratory.intrinsic+json": {
              "type": "string"
            }
          },
          "metadata": {},
          "execution_count": 7
        }
      ]
    },
    {
      "cell_type": "code",
      "source": [
        "my=\"hello world\"\n",
        "my.split()"
      ],
      "metadata": {
        "colab": {
          "base_uri": "https://localhost:8080/"
        },
        "id": "AOOFP0Nw-W2K",
        "outputId": "5a390e65-ed7e-43c5-a4fd-db962eb3087c"
      },
      "execution_count": null,
      "outputs": [
        {
          "output_type": "execute_result",
          "data": {
            "text/plain": [
              "['hello', 'world']"
            ]
          },
          "metadata": {},
          "execution_count": 13
        }
      ]
    },
    {
      "cell_type": "code",
      "source": [
        "my=\"hi da from madurai\"\n",
        "my.split(\"a\")"
      ],
      "metadata": {
        "colab": {
          "base_uri": "https://localhost:8080/"
        },
        "id": "OP546M55Dl3I",
        "outputId": "939e114d-4a4b-4b3f-dcc8-e3bdc026efcf"
      },
      "execution_count": null,
      "outputs": [
        {
          "output_type": "execute_result",
          "data": {
            "text/plain": [
              "['hi d', ' from m', 'dur', 'i']"
            ]
          },
          "metadata": {},
          "execution_count": 14
        }
      ]
    },
    {
      "cell_type": "code",
      "source": [
        "print(\"shafeeq {}\".format(\"is good boy\"))\n",
        "print(\"shafeeq {1} {2} \".format(\"fox\",\"lox\",\"box\"))"
      ],
      "metadata": {
        "colab": {
          "base_uri": "https://localhost:8080/"
        },
        "id": "jainYLM4Eo4U",
        "outputId": "2a81817f-d2da-4a50-c939-5b00e141825d"
      },
      "execution_count": null,
      "outputs": [
        {
          "output_type": "stream",
          "name": "stdout",
          "text": [
            "shafeeq is good boy\n",
            "shafeeq lox box \n"
          ]
        }
      ]
    },
    {
      "cell_type": "code",
      "source": [
        " s=\" shafeeq\"\n",
        " print(f\"this is{s}\")"
      ],
      "metadata": {
        "colab": {
          "base_uri": "https://localhost:8080/"
        },
        "id": "c-_j0hgDH21X",
        "outputId": "0ece5093-8629-4650-9893-a533eeab0d1f"
      },
      "execution_count": null,
      "outputs": [
        {
          "output_type": "stream",
          "name": "stdout",
          "text": [
            "this is shafeeq\n"
          ]
        }
      ]
    },
    {
      "cell_type": "markdown",
      "source": [
        "dictionary"
      ],
      "metadata": {
        "id": "ZW5CErC3XGgr"
      }
    },
    {
      "cell_type": "code",
      "source": [
        "dic={'key1':'sha','key2':'feeq'}\n",
        "dic['key1'].upper()\n",
        "dic['key1']='cha'\n",
        "dic"
      ],
      "metadata": {
        "colab": {
          "base_uri": "https://localhost:8080/"
        },
        "id": "kPDYIbsOdF9-",
        "outputId": "697a7ac0-bb70-4408-f35b-65616085e3a9"
      },
      "execution_count": null,
      "outputs": [
        {
          "output_type": "execute_result",
          "data": {
            "text/plain": [
              "{'key1': 'cha', 'key2': 'feeq'}"
            ]
          },
          "metadata": {},
          "execution_count": 5
        }
      ]
    },
    {
      "cell_type": "code",
      "source": [
        "dic={'key1':'sha','key2':'feeq'}\n",
        "dic.keys()"
      ],
      "metadata": {
        "colab": {
          "base_uri": "https://localhost:8080/"
        },
        "id": "L8Rq1oa7V3O-",
        "outputId": "75234e43-90a6-4648-f026-e56a69d65457"
      },
      "execution_count": null,
      "outputs": [
        {
          "output_type": "execute_result",
          "data": {
            "text/plain": [
              "dict_keys(['key1', 'key2'])"
            ]
          },
          "metadata": {},
          "execution_count": 1
        }
      ]
    },
    {
      "cell_type": "code",
      "source": [
        "d={'key1':'shafeeq','key2':'ahmed'}\n",
        "d.values()"
      ],
      "metadata": {
        "colab": {
          "base_uri": "https://localhost:8080/"
        },
        "id": "rR92n0gTWWoy",
        "outputId": "3a900b03-a92c-423c-8e8c-4efd1cc70fbd"
      },
      "execution_count": null,
      "outputs": [
        {
          "output_type": "execute_result",
          "data": {
            "text/plain": [
              "dict_values(['shafeeq', 'ahmed'])"
            ]
          },
          "metadata": {},
          "execution_count": 2
        }
      ]
    },
    {
      "cell_type": "code",
      "source": [
        "dic={'key1':'sha','key2':'feeq'}\n",
        "dic['key1']"
      ],
      "metadata": {
        "colab": {
          "base_uri": "https://localhost:8080/",
          "height": 35
        },
        "id": "XQ1DD2y1W4jt",
        "outputId": "91eed861-8d47-49ec-a043-82901cb7ff7e"
      },
      "execution_count": null,
      "outputs": [
        {
          "output_type": "execute_result",
          "data": {
            "text/plain": [
              "'sha'"
            ],
            "application/vnd.google.colaboratory.intrinsic+json": {
              "type": "string"
            }
          },
          "metadata": {},
          "execution_count": 3
        }
      ]
    },
    {
      "cell_type": "markdown",
      "source": [
        "set"
      ],
      "metadata": {
        "id": "TK7gggc_XJ8e"
      }
    },
    {
      "cell_type": "code",
      "source": [
        "la= set('mississsippi')\n",
        "la"
      ],
      "metadata": {
        "id": "rGoNhCz6K7dX",
        "colab": {
          "base_uri": "https://localhost:8080/"
        },
        "outputId": "36ba757a-2025-4a8c-da97-43ab03098810"
      },
      "execution_count": null,
      "outputs": [
        {
          "output_type": "execute_result",
          "data": {
            "text/plain": [
              "{'i', 'm', 'p', 's'}"
            ]
          },
          "metadata": {},
          "execution_count": 6
        }
      ]
    },
    {
      "cell_type": "code",
      "source": [
        "pwd\n"
      ],
      "metadata": {
        "colab": {
          "base_uri": "https://localhost:8080/",
          "height": 35
        },
        "id": "tlUq51E6lP9h",
        "outputId": "6dc48b81-b1c4-4899-dc91-010136fed575"
      },
      "execution_count": null,
      "outputs": [
        {
          "output_type": "execute_result",
          "data": {
            "text/plain": [
              "'/content'"
            ],
            "application/vnd.google.colaboratory.intrinsic+json": {
              "type": "string"
            }
          },
          "metadata": {},
          "execution_count": 7
        }
      ]
    },
    {
      "cell_type": "markdown",
      "source": [
        "  python statements , control flow statements make use of colons and indentation"
      ],
      "metadata": {
        "id": "QWiZi05FXR4O"
      }
    },
    {
      "cell_type": "code",
      "source": [
        "kaka ='black'\n",
        "\n",
        "if kaka=='blue':\n",
        "  print('kaka is blue')\n",
        "\n",
        "elif kaka=='red':\n",
        "  print('kaka is red')\n",
        "\n",
        "else:\n",
        "  print('kaka is always black')"
      ],
      "metadata": {
        "colab": {
          "base_uri": "https://localhost:8080/"
        },
        "id": "CuJnvkx_XWkX",
        "outputId": "65a22b95-4ec2-482f-8d60-bb612a41cb86"
      },
      "execution_count": null,
      "outputs": [
        {
          "output_type": "stream",
          "name": "stdout",
          "text": [
            "kaka is always black\n"
          ]
        }
      ]
    },
    {
      "cell_type": "markdown",
      "source": [
        "for loops"
      ],
      "metadata": {
        "id": "i0_jtNQniR4G"
      }
    },
    {
      "cell_type": "code",
      "source": [
        "list1=[1,2,3,4,5,6,7,8,9,10]\n",
        "\n",
        "for num in list1:\n",
        "  print(num)"
      ],
      "metadata": {
        "colab": {
          "base_uri": "https://localhost:8080/"
        },
        "id": "byUlyBCniTyd",
        "outputId": "36832173-773e-46c7-ad88-9fa5ca351813"
      },
      "execution_count": null,
      "outputs": [
        {
          "output_type": "stream",
          "name": "stdout",
          "text": [
            "1\n",
            "2\n",
            "3\n",
            "4\n",
            "5\n",
            "6\n",
            "7\n",
            "8\n",
            "9\n",
            "10\n"
          ]
        }
      ]
    },
    {
      "cell_type": "code",
      "source": [
        "list1=[1,2,3,4,5,6,7,8,9,10]\n",
        "\n",
        "for num in list1:\n",
        "  if num%2==0:\n",
        "    print(num)\n",
        "\n",
        "  else:\n",
        "    print(f' odd number: {num}')"
      ],
      "metadata": {
        "colab": {
          "base_uri": "https://localhost:8080/"
        },
        "id": "FFI4mSxaimso",
        "outputId": "371b2d1f-8dde-4f73-e97d-835a52428f36"
      },
      "execution_count": null,
      "outputs": [
        {
          "output_type": "stream",
          "name": "stdout",
          "text": [
            " odd number: 1\n",
            "2\n",
            " odd number: 3\n",
            "4\n",
            " odd number: 5\n",
            "6\n",
            " odd number: 7\n",
            "8\n",
            " odd number: 9\n",
            "10\n"
          ]
        }
      ]
    },
    {
      "cell_type": "markdown",
      "source": [
        "tuple unpacking"
      ],
      "metadata": {
        "id": "HioOL8YMkRW6"
      }
    },
    {
      "cell_type": "code",
      "source": [
        "listu=[('orange','banana'),('orange','apple'),('cherry','pine')]\n",
        "\n",
        "for a,b in listu:\n",
        "  print(a)"
      ],
      "metadata": {
        "colab": {
          "base_uri": "https://localhost:8080/"
        },
        "id": "vmIMXXSVkU-Y",
        "outputId": "d1277344-c435-48ac-c94e-57a1e167cf0c"
      },
      "execution_count": null,
      "outputs": [
        {
          "output_type": "stream",
          "name": "stdout",
          "text": [
            "orange\n",
            "orange\n",
            "cherry\n"
          ]
        }
      ]
    },
    {
      "cell_type": "code",
      "source": [
        "letter='shafeeq ahmed'\n",
        "for item in letter:\n",
        "  print(item)"
      ],
      "metadata": {
        "id": "vHeYzh_Kfyhm",
        "outputId": "7f74544a-7c93-4fc1-e6ed-816b2bae2101",
        "colab": {
          "base_uri": "https://localhost:8080/"
        }
      },
      "execution_count": null,
      "outputs": [
        {
          "output_type": "stream",
          "name": "stdout",
          "text": [
            "s\n",
            "h\n",
            "a\n",
            "f\n",
            "e\n",
            "e\n",
            "q\n",
            " \n",
            "a\n",
            "h\n",
            "m\n",
            "e\n",
            "d\n"
          ]
        }
      ]
    },
    {
      "cell_type": "markdown",
      "source": [
        "continue statement is where if the condition becomes true then it will skip  "
      ],
      "metadata": {
        "id": "cb-rjLlfO_bI"
      }
    },
    {
      "cell_type": "code",
      "source": [
        "x='shafeeq'\n",
        "for item in x:\n",
        "  if item=='a':\n",
        "    continue\n",
        "  print(item)"
      ],
      "metadata": {
        "id": "5qmwFXIoNDCh",
        "outputId": "b5b79a2f-0841-4f0c-d195-46769f8dbbe5",
        "colab": {
          "base_uri": "https://localhost:8080/"
        }
      },
      "execution_count": null,
      "outputs": [
        {
          "output_type": "stream",
          "name": "stdout",
          "text": [
            "s\n",
            "h\n",
            "f\n",
            "e\n",
            "e\n",
            "q\n"
          ]
        }
      ]
    },
    {
      "cell_type": "code",
      "source": [
        "x='shafeeq'\n",
        "for item in x:\n",
        "  if item=='a':\n",
        "    break\n",
        "  print(item)"
      ],
      "metadata": {
        "id": "pv9xmlb7PUdi",
        "outputId": "f0b9ca1c-ba42-4442-a9dc-adee6e5733a1",
        "colab": {
          "base_uri": "https://localhost:8080/"
        }
      },
      "execution_count": null,
      "outputs": [
        {
          "output_type": "stream",
          "name": "stdout",
          "text": [
            "s\n",
            "h\n"
          ]
        }
      ]
    },
    {
      "cell_type": "code",
      "source": [
        "x=0\n",
        "\n",
        "while x<10:\n",
        "  if x==5:\n",
        "    break\n",
        "  print(x)\n",
        "  x+=1"
      ],
      "metadata": {
        "id": "TSOJVD3JPplD",
        "outputId": "757b8b9a-c25a-4641-beca-58654d3469e0",
        "colab": {
          "base_uri": "https://localhost:8080/"
        }
      },
      "execution_count": null,
      "outputs": [
        {
          "output_type": "stream",
          "name": "stdout",
          "text": [
            "0\n",
            "1\n",
            "2\n",
            "3\n",
            "4\n"
          ]
        }
      ]
    },
    {
      "cell_type": "markdown",
      "source": [
        "range function is same like slicing the diff is range is a generator"
      ],
      "metadata": {
        "id": "Agm8cODXSAwT"
      }
    },
    {
      "cell_type": "code",
      "source": [
        "list(range(2,10,2))\n"
      ],
      "metadata": {
        "id": "wYLpKIlkR1sn",
        "outputId": "948cdd82-370c-4f74-d1e9-0a396517de1c",
        "colab": {
          "base_uri": "https://localhost:8080/"
        }
      },
      "execution_count": null,
      "outputs": [
        {
          "output_type": "execute_result",
          "data": {
            "text/plain": [
              "[2, 4, 6, 8]"
            ]
          },
          "metadata": {},
          "execution_count": 16
        }
      ]
    },
    {
      "cell_type": "code",
      "source": [
        "x=0\n",
        "item='ahmed'\n",
        "\n",
        "for i in item:\n",
        "  print('the x is {} and i is {}'.format(x,i))\n",
        "  x +=1"
      ],
      "metadata": {
        "id": "stpOOyOiSIdm",
        "outputId": "7adfa5de-6ec7-4250-b93c-ce6b219578d9",
        "colab": {
          "base_uri": "https://localhost:8080/"
        }
      },
      "execution_count": null,
      "outputs": [
        {
          "output_type": "stream",
          "name": "stdout",
          "text": [
            "the x is 0 and i is a\n",
            "the x is 1 and i is h\n",
            "the x is 2 and i is m\n",
            "the x is 3 and i is e\n",
            "the x is 4 and i is d\n"
          ]
        }
      ]
    },
    {
      "cell_type": "markdown",
      "source": [
        "enum function"
      ],
      "metadata": {
        "id": "ybMEwf3dUe2_"
      }
    },
    {
      "cell_type": "code",
      "source": [
        "x='pocox3'\n",
        "for i in enumerate(x):\n",
        "  print(i)"
      ],
      "metadata": {
        "id": "zP-EmeSkUgf4",
        "outputId": "49263e4d-e727-4ad2-f4cb-05844fecc0d3",
        "colab": {
          "base_uri": "https://localhost:8080/"
        }
      },
      "execution_count": null,
      "outputs": [
        {
          "output_type": "stream",
          "name": "stdout",
          "text": [
            "(0, 'p')\n",
            "(1, 'o')\n",
            "(2, 'c')\n",
            "(3, 'o')\n",
            "(4, 'x')\n",
            "(5, '3')\n"
          ]
        }
      ]
    },
    {
      "cell_type": "code",
      "source": [
        "l=['sha','fee','qq']\n",
        "\n",
        "print(list(enumerate(l)))"
      ],
      "metadata": {
        "id": "sQj4CjmqVcXR",
        "outputId": "89aae8c4-c3f5-4054-d503-5bddb48b7858",
        "colab": {
          "base_uri": "https://localhost:8080/"
        }
      },
      "execution_count": null,
      "outputs": [
        {
          "output_type": "stream",
          "name": "stdout",
          "text": [
            "[(0, 'sha'), (1, 'fee'), (2, 'qq')]\n"
          ]
        }
      ]
    },
    {
      "cell_type": "code",
      "source": [
        "lala='shafeeq'\n",
        "mylist=[]\n",
        "for item in lala:\n",
        "  mylist.append(item)\n",
        "  mylist\n"
      ],
      "metadata": {
        "id": "ehYbQBoltj4H"
      },
      "execution_count": null,
      "outputs": []
    },
    {
      "cell_type": "code",
      "source": [
        "la='bannari amman institute of technology'\n",
        "\n",
        "for word in la.split():\n",
        "  if word[0]=='b':\n",
        "    print(word)"
      ],
      "metadata": {
        "id": "MLHJkNby_3OJ",
        "outputId": "8a147a34-dd58-4734-98a1-87441d45c4b3",
        "colab": {
          "base_uri": "https://localhost:8080/"
        }
      },
      "execution_count": null,
      "outputs": [
        {
          "output_type": "stream",
          "name": "stdout",
          "text": [
            "bannari\n"
          ]
        }
      ]
    },
    {
      "cell_type": "code",
      "source": [
        "list(range(0,11,2))"
      ],
      "metadata": {
        "id": "RAZVskrTAaCG",
        "outputId": "a8ebdc79-1ab0-4823-defa-c3dede78e050",
        "colab": {
          "base_uri": "https://localhost:8080/"
        }
      },
      "execution_count": null,
      "outputs": [
        {
          "output_type": "execute_result",
          "data": {
            "text/plain": [
              "[0, 2, 4, 6, 8, 10]"
            ]
          },
          "metadata": {},
          "execution_count": 29
        }
      ]
    },
    {
      "cell_type": "code",
      "source": [
        "[x for x in range(1,51) if x%3==0]"
      ],
      "metadata": {
        "id": "yq2l2p8AAgqu",
        "outputId": "fad17ee4-7361-4e46-f227-37db2d0858c9",
        "colab": {
          "base_uri": "https://localhost:8080/"
        }
      },
      "execution_count": null,
      "outputs": [
        {
          "output_type": "execute_result",
          "data": {
            "text/plain": [
              "[3, 6, 9, 12, 15, 18, 21, 24, 27, 30, 33, 36, 39, 42, 45, 48]"
            ]
          },
          "metadata": {},
          "execution_count": 30
        }
      ]
    },
    {
      "cell_type": "code",
      "source": [
        "la='bannari amman institute of technology'\n",
        "\n",
        "for word in la.split():\n",
        "  if len(word)%2==0:\n",
        "    print(word,'the word is even')"
      ],
      "metadata": {
        "id": "4qPrP8uwAwus",
        "outputId": "1029f6f6-9c7e-4297-83fa-9c9c4616e8a7",
        "colab": {
          "base_uri": "https://localhost:8080/"
        }
      },
      "execution_count": null,
      "outputs": [
        {
          "output_type": "stream",
          "name": "stdout",
          "text": [
            "of the word is even\n",
            "technology the word is even\n"
          ]
        }
      ]
    },
    {
      "cell_type": "code",
      "source": [
        "for num in range(1,101):\n",
        "  if num%3==0:\n",
        "    print('Fizz')\n",
        "  elif num%5==0:\n",
        "    print('Buzz')\n",
        "  elif num%3==0 and num%5==0:\n",
        "    print('FizzBuzz')\n",
        "  else:\n",
        "    print(num)"
      ],
      "metadata": {
        "id": "rfFEY1_yBx6T",
        "outputId": "5a514430-2181-492a-da30-190d29b7bac0",
        "colab": {
          "base_uri": "https://localhost:8080/"
        }
      },
      "execution_count": null,
      "outputs": [
        {
          "output_type": "stream",
          "name": "stdout",
          "text": [
            "1\n",
            "2\n",
            "Fizz\n",
            "4\n",
            "Buzz\n",
            "Fizz\n",
            "7\n",
            "8\n",
            "Fizz\n",
            "Buzz\n",
            "11\n",
            "Fizz\n",
            "13\n",
            "14\n",
            "Fizz\n",
            "16\n",
            "17\n",
            "Fizz\n",
            "19\n",
            "Buzz\n",
            "Fizz\n",
            "22\n",
            "23\n",
            "Fizz\n",
            "Buzz\n",
            "26\n",
            "Fizz\n",
            "28\n",
            "29\n",
            "Fizz\n",
            "31\n",
            "32\n",
            "Fizz\n",
            "34\n",
            "Buzz\n",
            "Fizz\n",
            "37\n",
            "38\n",
            "Fizz\n",
            "Buzz\n",
            "41\n",
            "Fizz\n",
            "43\n",
            "44\n",
            "Fizz\n",
            "46\n",
            "47\n",
            "Fizz\n",
            "49\n",
            "Buzz\n",
            "Fizz\n",
            "52\n",
            "53\n",
            "Fizz\n",
            "Buzz\n",
            "56\n",
            "Fizz\n",
            "58\n",
            "59\n",
            "Fizz\n",
            "61\n",
            "62\n",
            "Fizz\n",
            "64\n",
            "Buzz\n",
            "Fizz\n",
            "67\n",
            "68\n",
            "Fizz\n",
            "Buzz\n",
            "71\n",
            "Fizz\n",
            "73\n",
            "74\n",
            "Fizz\n",
            "76\n",
            "77\n",
            "Fizz\n",
            "79\n",
            "Buzz\n",
            "Fizz\n",
            "82\n",
            "83\n",
            "Fizz\n",
            "Buzz\n",
            "86\n",
            "Fizz\n",
            "88\n",
            "89\n",
            "Fizz\n",
            "91\n",
            "92\n",
            "Fizz\n",
            "94\n",
            "Buzz\n",
            "Fizz\n",
            "97\n",
            "98\n",
            "Fizz\n",
            "Buzz\n"
          ]
        }
      ]
    },
    {
      "cell_type": "markdown",
      "source": [
        "leap year or not"
      ],
      "metadata": {
        "id": "j1bVEd9nXQsl"
      }
    },
    {
      "cell_type": "code",
      "source": [
        "year=int(input('which year do you want to check? :'))\n",
        "if year%4==0:\n",
        "  if year%100==0:\n",
        "    if year%400==0:\n",
        "      print('leap year')\n",
        "    else:\n",
        "      print('non leap year')\n",
        "  else:\n",
        "    print('leap year')\n",
        "else:\n",
        "  print('it is not a leap year')"
      ],
      "metadata": {
        "id": "Lt1z5swfXTAy",
        "outputId": "c5166a9d-60d7-453c-dba3-0778a85dffb9",
        "colab": {
          "base_uri": "https://localhost:8080/"
        }
      },
      "execution_count": null,
      "outputs": [
        {
          "output_type": "stream",
          "name": "stdout",
          "text": [
            "which year do you want to check? :2023\n",
            "it is not a leap year\n"
          ]
        }
      ]
    },
    {
      "cell_type": "code",
      "source": [
        "size=input('enter the size of pizza M/S/L')\n",
        "bill=0\n",
        "if size=='s' or size=='S':\n",
        "  bill+=50\n",
        "  print('your bill is 50')\n",
        "\n",
        "elif size=='m' or size=='M':\n",
        "  bill+=100\n",
        "  print('your bill is 100')\n",
        "\n",
        "else:\n",
        "  bill+=150\n",
        "  print('your bill is 150')\n",
        "\n",
        "add_pizza=input('do you want maccaroniii Y/N')\n",
        "\n",
        "if add_pizza=='y' or add_pizza=='Y':\n",
        "  if size=='s' or size=='S':\n",
        "    bill+=100\n",
        "  elif size=='m' or size=='M':\n",
        "    bill+=100\n",
        "  else:\n",
        "    bill+=100\n",
        "\n",
        "print({f'your final bill is{bill}'})\n",
        "\n"
      ],
      "metadata": {
        "id": "Thy6s017ZrMV",
        "outputId": "b999c811-edbc-432e-d16c-8a2443f78255",
        "colab": {
          "base_uri": "https://localhost:8080/"
        }
      },
      "execution_count": null,
      "outputs": [
        {
          "output_type": "stream",
          "name": "stdout",
          "text": [
            "enter the size of pizza M/S/LM\n",
            "your bill is 100\n",
            "do you want maccaroniii Y/NY\n",
            "{'your final bill is200'}\n"
          ]
        }
      ]
    },
    {
      "cell_type": "code",
      "source": [
        "import random\n",
        "a=random.randint(1,2)\n",
        "if a==1:\n",
        "  print('its tail')\n",
        "else:\n",
        "  print('its head')"
      ],
      "metadata": {
        "id": "ELaFxamzhTyL",
        "outputId": "98a4d026-df5a-4365-977d-25a44877da0a",
        "colab": {
          "base_uri": "https://localhost:8080/"
        }
      },
      "execution_count": null,
      "outputs": [
        {
          "output_type": "stream",
          "name": "stdout",
          "text": [
            "its tail\n"
          ]
        }
      ]
    },
    {
      "cell_type": "code",
      "source": [
        "import random\n",
        "names=input('enter the the seperated by commas:')\n",
        "names_list=names.split(',')\n",
        "length=len(names_list)\n",
        "spin=random.randint(0,length-1)\n",
        "print(f'{names_list[spin]} should pay the bill')\n",
        "\n"
      ],
      "metadata": {
        "id": "JF0idhhxh8Zb",
        "outputId": "2c3f7324-35bb-46d4-c03c-8534362fd063",
        "colab": {
          "base_uri": "https://localhost:8080/"
        }
      },
      "execution_count": null,
      "outputs": [
        {
          "output_type": "stream",
          "name": "stdout",
          "text": [
            "enter the the seperated by commas:jyegfc,xjywgf,wcjygxf\n",
            "wcjygxf should pay the bill\n"
          ]
        }
      ]
    },
    {
      "cell_type": "markdown",
      "source": [
        "rock paper scissor game"
      ],
      "metadata": {
        "id": "IZVj8fZ4Gv1r"
      }
    },
    {
      "cell_type": "code",
      "source": [
        "import random\n",
        "user=int(input('enter the choice 0-for rock , 1-for paper ,2-for scissor:'))\n",
        "if user>=3 or user<1:\n",
        "  print('invalid input')\n",
        "\n",
        "computer=random.randint(0,2)\n",
        "print(computer)\n",
        "if computer==user:\n",
        "  print('game is draw')\n",
        "elif user==0 and computer==2:\n",
        "  print('user wins')\n",
        "elif user==2 and computer==0:\n",
        "  print('computer wins')\n",
        "elif user>computer:\n",
        "  print('user winss')\n",
        "elif computer>user:\n",
        "  print('computer wins')\n"
      ],
      "metadata": {
        "id": "Fkywx8N9GzJ3",
        "outputId": "6badeeb2-3665-4162-d344-921077624bc6",
        "colab": {
          "base_uri": "https://localhost:8080/"
        }
      },
      "execution_count": null,
      "outputs": [
        {
          "output_type": "stream",
          "name": "stdout",
          "text": [
            "enter the choice 0-for rock , 1-for paper ,2-for scissor:2\n",
            "0\n",
            "computer wins\n"
          ]
        }
      ]
    },
    {
      "cell_type": "code",
      "source": [
        "total=0\n",
        "for i in range(1,11):\n",
        "  total+=i\n",
        "print(total)"
      ],
      "metadata": {
        "id": "cQZf7s3NL1pT",
        "outputId": "fad4170e-cd1f-4195-90da-ffc6b81759fe",
        "colab": {
          "base_uri": "https://localhost:8080/"
        }
      },
      "execution_count": null,
      "outputs": [
        {
          "output_type": "stream",
          "name": "stdout",
          "text": [
            "55\n"
          ]
        }
      ]
    },
    {
      "cell_type": "markdown",
      "source": [
        "*args"
      ],
      "metadata": {
        "id": "OgLJhQLwnppP"
      }
    },
    {
      "cell_type": "code",
      "source": [
        "def add(*numbers):#here it is converted into tuples,it is immutable\n",
        "  c=0\n",
        "  for i in numbers:\n",
        "    c+=i\n",
        "  print(c)\n",
        "\n",
        "add(12,34,5,6,7)\n",
        "add(34,5,7,9,0,2,3,4,34) # we use this when we dont know how many arguments we pass"
      ],
      "metadata": {
        "id": "8CTrQ1GMnq2Y",
        "outputId": "0fde22bd-27dd-4e80-b40e-3592445d6eb6",
        "colab": {
          "base_uri": "https://localhost:8080/"
        }
      },
      "execution_count": null,
      "outputs": [
        {
          "output_type": "stream",
          "name": "stdout",
          "text": [
            "64\n",
            "98\n"
          ]
        }
      ]
    },
    {
      "cell_type": "code",
      "source": [
        "def add(*numbers,name):#here it is converted into tuples,it is immutable\n",
        "  c=0\n",
        "  print(numbers)\n",
        "  print(name)\n",
        "\"\"\" for i in numbers:\n",
        "        c+=i\n",
        "     print(c)\"\"\"\n",
        "\n",
        "add(12,34,5,6,7,name='shafeeq')\n",
        "add(34,5,7,9,0,2,3,4,34,name='kalai')\n",
        "\n",
        "#first normal arguments pass and then positional arbitary and keyword"
      ],
      "metadata": {
        "id": "X_Pcw5y4o-Sh",
        "outputId": "870c2cb1-23d6-4ed3-ccca-8220d9201f5e",
        "colab": {
          "base_uri": "https://localhost:8080/"
        }
      },
      "execution_count": null,
      "outputs": [
        {
          "output_type": "stream",
          "name": "stdout",
          "text": [
            "(12, 34, 5, 6, 7)\n",
            "shafeeq\n",
            "(34, 5, 7, 9, 0, 2, 3, 4, 34)\n",
            "kalai\n"
          ]
        }
      ]
    },
    {
      "cell_type": "markdown",
      "source": [
        "**kwargs"
      ],
      "metadata": {
        "id": "OfdDFzFhryte"
      }
    },
    {
      "cell_type": "code",
      "source": [
        "def menu(**kwargs):#here it comes as dictionaries\n",
        "  print(kwargs)\n",
        "\n",
        "menu(food='fish',table=1,cost=450)\n",
        "menu(food='chicken',table=5,cost=600)"
      ],
      "metadata": {
        "id": "IVnKt0tgr0UR",
        "outputId": "658a8a8f-8ebd-495c-ef4a-3d9f742eea55",
        "colab": {
          "base_uri": "https://localhost:8080/"
        }
      },
      "execution_count": null,
      "outputs": [
        {
          "output_type": "stream",
          "name": "stdout",
          "text": [
            "{'food': 'fish', 'table': 1, 'cost': 450}\n",
            "{'food': 'chicken', 'table': 5, 'cost': 600}\n"
          ]
        }
      ]
    },
    {
      "cell_type": "code",
      "source": [
        "def menu(*args,**kwargs):#here it comes as dictionaries\n",
        "  print(kwargs)\n",
        "  print(args)\n",
        "  print('token {} dish is {} at {} of {}'.format(args[0],kwargs['food'],kwargs['table'],kwargs['cost']))\n",
        "\n",
        "\n",
        "menu(1,23,22,food='fish',table=1,cost=450)\n",
        "menu(22,55,66,food='chicken',table=5,cost=600)"
      ],
      "metadata": {
        "id": "ZPjAw_J6sZ0S",
        "outputId": "ca8748cf-b65a-420f-8f38-89f36799df97",
        "colab": {
          "base_uri": "https://localhost:8080/"
        }
      },
      "execution_count": null,
      "outputs": [
        {
          "output_type": "stream",
          "name": "stdout",
          "text": [
            "{'food': 'fish', 'table': 1, 'cost': 450}\n",
            "(1, 23, 22)\n",
            "token 1 dish is fish at 1 of 450\n",
            "{'food': 'chicken', 'table': 5, 'cost': 600}\n",
            "(22, 55, 66)\n",
            "token 22 dish is chicken at 5 of 600\n"
          ]
        }
      ]
    },
    {
      "cell_type": "code",
      "source": [
        "def myfunc(input):\n",
        "    result=''\n",
        "    for i in range(len(input)):\n",
        "        if i % 2==0:\n",
        "            result += input[i].lower()\n",
        "        else:\n",
        "            result += input[i].upper()\n",
        "    return result\n",
        "\n",
        "myfunc('sHaFREaai')"
      ],
      "metadata": {
        "id": "p3I7bq-TtLsw",
        "outputId": "cc32e186-f4f4-43a1-cfdc-e7b0619aba1e",
        "colab": {
          "base_uri": "https://localhost:8080/",
          "height": 35
        }
      },
      "execution_count": 12,
      "outputs": [
        {
          "output_type": "execute_result",
          "data": {
            "text/plain": [
              "'sHaFrEaAi'"
            ],
            "application/vnd.google.colaboratory.intrinsic+json": {
              "type": "string"
            }
          },
          "metadata": {},
          "execution_count": 12
        }
      ]
    },
    {
      "cell_type": "code",
      "source": [
        "def animal_crackers(text):\n",
        "    text=text.split()\n",
        "    print(text)\n",
        "    first=text[0]\n",
        "    second=text[1]\n",
        "\n",
        "    if first[0]==second[0]:\n",
        "      return True\n",
        "    else:\n",
        "      return False\n",
        "\n",
        "animal_crackers('laaaaaa bahadhurasha')"
      ],
      "metadata": {
        "id": "unU-VqkPgZke",
        "outputId": "cf9bed30-2d59-46e4-9daf-991beb6de3a0",
        "colab": {
          "base_uri": "https://localhost:8080/"
        }
      },
      "execution_count": 3,
      "outputs": [
        {
          "output_type": "stream",
          "name": "stdout",
          "text": [
            "['laaaaaa', 'bahadhurasha']\n"
          ]
        },
        {
          "output_type": "execute_result",
          "data": {
            "text/plain": [
              "False"
            ]
          },
          "metadata": {},
          "execution_count": 3
        }
      ]
    },
    {
      "cell_type": "markdown",
      "source": [
        "accessing the first element of an list and to put in new list if the first letter is equal"
      ],
      "metadata": {
        "id": "6D1cMFXlplr6"
      }
    },
    {
      "cell_type": "code",
      "source": [
        "def hey(names):\n",
        "  check='A'\n",
        "  print(names)\n",
        "  hey=[idx for idx in names if idx[0].lower() == check.lower()]\n",
        "  print('the matched word is',hey)\n",
        "\n",
        "names=['Ahafeeq','Nhahid','Mishore','aarthi']\n",
        "hey(names)"
      ],
      "metadata": {
        "id": "PWdbuaiik0iN",
        "outputId": "77090e79-14e8-470b-ce51-108a3dd90cbc",
        "colab": {
          "base_uri": "https://localhost:8080/"
        }
      },
      "execution_count": 23,
      "outputs": [
        {
          "output_type": "stream",
          "name": "stdout",
          "text": [
            "['Ahafeeq', 'Nhahid', 'Mishore', 'aarthi']\n",
            "the matched word is ['Ahafeeq', 'aarthi']\n"
          ]
        }
      ]
    },
    {
      "cell_type": "code",
      "source": [
        "def low(arg):\n",
        "  text=arg.upper().split()\n",
        "  if text[0][0]==text[1][0]:\n",
        "    return True\n",
        "  else:\n",
        "    return False\n",
        "\n",
        "low('shafeeq ahmed')\n",
        "low('kishore Karthi')"
      ],
      "metadata": {
        "id": "3jeZo3uWqHYq",
        "outputId": "b18d8987-5b30-470f-d329-4d24d78c8d21",
        "colab": {
          "base_uri": "https://localhost:8080/"
        }
      },
      "execution_count": 26,
      "outputs": [
        {
          "output_type": "execute_result",
          "data": {
            "text/plain": [
              "True"
            ]
          },
          "metadata": {},
          "execution_count": 26
        }
      ]
    }
  ]
}