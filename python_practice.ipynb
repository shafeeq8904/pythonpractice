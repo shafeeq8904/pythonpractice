{
  "nbformat": 4,
  "nbformat_minor": 0,
  "metadata": {
    "colab": {
      "provenance": [],
      "authorship_tag": "ABX9TyPIj1/PB4RsreAagCU5Y2lr",
      "include_colab_link": true
    },
    "kernelspec": {
      "name": "python3",
      "display_name": "Python 3"
    },
    "language_info": {
      "name": "python"
    }
  },
  "cells": [
    {
      "cell_type": "markdown",
      "metadata": {
        "id": "view-in-github",
        "colab_type": "text"
      },
      "source": [
        "<a href=\"https://colab.research.google.com/github/shafeeq8904/pythonpractice/blob/main/python_practice.ipynb\" target=\"_parent\"><img src=\"https://colab.research.google.com/assets/colab-badge.svg\" alt=\"Open In Colab\"/></a>"
      ]
    },
    {
      "cell_type": "markdown",
      "source": [
        "basic python practise"
      ],
      "metadata": {
        "id": "Hr6Feb4RWpUq"
      }
    },
    {
      "cell_type": "code",
      "source": [
        "'hello'"
      ],
      "metadata": {
        "colab": {
          "base_uri": "https://localhost:8080/",
          "height": 35
        },
        "id": "hAvr0qiJ5Zla",
        "outputId": "33851da4-175c-4a78-9028-6f04b51adf57"
      },
      "execution_count": null,
      "outputs": [
        {
          "output_type": "execute_result",
          "data": {
            "text/plain": [
              "'hello'"
            ],
            "application/vnd.google.colaboratory.intrinsic+json": {
              "type": "string"
            }
          },
          "metadata": {},
          "execution_count": 1
        }
      ]
    },
    {
      "cell_type": "code",
      "source": [
        "\"world\""
      ],
      "metadata": {
        "colab": {
          "base_uri": "https://localhost:8080/",
          "height": 35
        },
        "id": "mxNGyE4L68sj",
        "outputId": "5d8d5c36-62c5-483a-e4dd-e9763bcbbf8b"
      },
      "execution_count": null,
      "outputs": [
        {
          "output_type": "execute_result",
          "data": {
            "text/plain": [
              "'world'"
            ],
            "application/vnd.google.colaboratory.intrinsic+json": {
              "type": "string"
            }
          },
          "metadata": {},
          "execution_count": 2
        }
      ]
    },
    {
      "cell_type": "markdown",
      "source": [
        "indexing"
      ],
      "metadata": {
        "id": "6WfVtXKSW8fL"
      }
    },
    {
      "cell_type": "code",
      "source": [
        "my=\"shafeeq\"\n",
        "my[2]"
      ],
      "metadata": {
        "colab": {
          "base_uri": "https://localhost:8080/",
          "height": 35
        },
        "id": "vr-XfZXM6_QJ",
        "outputId": "7e17bacf-9126-4c5c-a925-f4a634360d63"
      },
      "execution_count": null,
      "outputs": [
        {
          "output_type": "execute_result",
          "data": {
            "text/plain": [
              "'a'"
            ],
            "application/vnd.google.colaboratory.intrinsic+json": {
              "type": "string"
            }
          },
          "metadata": {},
          "execution_count": 3
        }
      ]
    },
    {
      "cell_type": "code",
      "source": [
        "my[-1]"
      ],
      "metadata": {
        "colab": {
          "base_uri": "https://localhost:8080/",
          "height": 35
        },
        "id": "OkUJm6LI8nqL",
        "outputId": "82a2f529-2f98-445b-90ad-07cf88c13174"
      },
      "execution_count": null,
      "outputs": [
        {
          "output_type": "execute_result",
          "data": {
            "text/plain": [
              "'q'"
            ],
            "application/vnd.google.colaboratory.intrinsic+json": {
              "type": "string"
            }
          },
          "metadata": {},
          "execution_count": 4
        }
      ]
    },
    {
      "cell_type": "markdown",
      "source": [
        "slicing"
      ],
      "metadata": {
        "id": "qcGdlQ_XXA5L"
      }
    },
    {
      "cell_type": "code",
      "source": [
        "my[1:6]"
      ],
      "metadata": {
        "colab": {
          "base_uri": "https://localhost:8080/",
          "height": 35
        },
        "id": "oPUDXhJp8s0f",
        "outputId": "191dbab5-b649-4fbe-ee7f-4f6646a8c968"
      },
      "execution_count": null,
      "outputs": [
        {
          "output_type": "execute_result",
          "data": {
            "text/plain": [
              "'hafee'"
            ],
            "application/vnd.google.colaboratory.intrinsic+json": {
              "type": "string"
            }
          },
          "metadata": {},
          "execution_count": 6
        }
      ]
    },
    {
      "cell_type": "code",
      "source": [
        "my[::-1]"
      ],
      "metadata": {
        "colab": {
          "base_uri": "https://localhost:8080/",
          "height": 35
        },
        "id": "M9LiTOib89MM",
        "outputId": "1bde2440-7655-4946-8e73-d94525ce5f6f"
      },
      "execution_count": null,
      "outputs": [
        {
          "output_type": "execute_result",
          "data": {
            "text/plain": [
              "'qeefahs'"
            ],
            "application/vnd.google.colaboratory.intrinsic+json": {
              "type": "string"
            }
          },
          "metadata": {},
          "execution_count": 7
        }
      ]
    },
    {
      "cell_type": "code",
      "source": [
        "my=\"hello world\"\n",
        "my.split()"
      ],
      "metadata": {
        "colab": {
          "base_uri": "https://localhost:8080/"
        },
        "id": "AOOFP0Nw-W2K",
        "outputId": "5a390e65-ed7e-43c5-a4fd-db962eb3087c"
      },
      "execution_count": null,
      "outputs": [
        {
          "output_type": "execute_result",
          "data": {
            "text/plain": [
              "['hello', 'world']"
            ]
          },
          "metadata": {},
          "execution_count": 13
        }
      ]
    },
    {
      "cell_type": "code",
      "source": [
        "my=\"hi da from madurai\"\n",
        "my.split(\"a\")"
      ],
      "metadata": {
        "colab": {
          "base_uri": "https://localhost:8080/"
        },
        "id": "OP546M55Dl3I",
        "outputId": "939e114d-4a4b-4b3f-dcc8-e3bdc026efcf"
      },
      "execution_count": null,
      "outputs": [
        {
          "output_type": "execute_result",
          "data": {
            "text/plain": [
              "['hi d', ' from m', 'dur', 'i']"
            ]
          },
          "metadata": {},
          "execution_count": 14
        }
      ]
    },
    {
      "cell_type": "code",
      "source": [
        "print(\"shafeeq {}\".format(\"is good boy\"))\n",
        "print(\"shafeeq {1} {2} \".format(\"fox\",\"lox\",\"box\"))"
      ],
      "metadata": {
        "colab": {
          "base_uri": "https://localhost:8080/"
        },
        "id": "jainYLM4Eo4U",
        "outputId": "2a81817f-d2da-4a50-c939-5b00e141825d"
      },
      "execution_count": null,
      "outputs": [
        {
          "output_type": "stream",
          "name": "stdout",
          "text": [
            "shafeeq is good boy\n",
            "shafeeq lox box \n"
          ]
        }
      ]
    },
    {
      "cell_type": "code",
      "source": [
        " s=\" shafeeq\"\n",
        " print(f\"this is{s}\")"
      ],
      "metadata": {
        "colab": {
          "base_uri": "https://localhost:8080/"
        },
        "id": "c-_j0hgDH21X",
        "outputId": "0ece5093-8629-4650-9893-a533eeab0d1f"
      },
      "execution_count": null,
      "outputs": [
        {
          "output_type": "stream",
          "name": "stdout",
          "text": [
            "this is shafeeq\n"
          ]
        }
      ]
    },
    {
      "cell_type": "markdown",
      "source": [
        "dictionary"
      ],
      "metadata": {
        "id": "ZW5CErC3XGgr"
      }
    },
    {
      "cell_type": "code",
      "source": [
        "dic={'key1':'sha','key2':'feeq'}\n",
        "dic['key1'].upper()\n",
        "dic['key1']='cha'\n",
        "dic"
      ],
      "metadata": {
        "colab": {
          "base_uri": "https://localhost:8080/"
        },
        "id": "kPDYIbsOdF9-",
        "outputId": "697a7ac0-bb70-4408-f35b-65616085e3a9"
      },
      "execution_count": null,
      "outputs": [
        {
          "output_type": "execute_result",
          "data": {
            "text/plain": [
              "{'key1': 'cha', 'key2': 'feeq'}"
            ]
          },
          "metadata": {},
          "execution_count": 5
        }
      ]
    },
    {
      "cell_type": "code",
      "source": [
        "dic={'key1':'sha','key2':'feeq'}\n",
        "dic.keys()"
      ],
      "metadata": {
        "colab": {
          "base_uri": "https://localhost:8080/"
        },
        "id": "L8Rq1oa7V3O-",
        "outputId": "75234e43-90a6-4648-f026-e56a69d65457"
      },
      "execution_count": null,
      "outputs": [
        {
          "output_type": "execute_result",
          "data": {
            "text/plain": [
              "dict_keys(['key1', 'key2'])"
            ]
          },
          "metadata": {},
          "execution_count": 1
        }
      ]
    },
    {
      "cell_type": "code",
      "source": [
        "d={'key1':'shafeeq','key2':'ahmed'}\n",
        "d.values()"
      ],
      "metadata": {
        "colab": {
          "base_uri": "https://localhost:8080/"
        },
        "id": "rR92n0gTWWoy",
        "outputId": "3a900b03-a92c-423c-8e8c-4efd1cc70fbd"
      },
      "execution_count": null,
      "outputs": [
        {
          "output_type": "execute_result",
          "data": {
            "text/plain": [
              "dict_values(['shafeeq', 'ahmed'])"
            ]
          },
          "metadata": {},
          "execution_count": 2
        }
      ]
    },
    {
      "cell_type": "code",
      "source": [
        "dic={'key1':'sha','key2':'feeq'}\n",
        "dic['key1']"
      ],
      "metadata": {
        "colab": {
          "base_uri": "https://localhost:8080/",
          "height": 35
        },
        "id": "XQ1DD2y1W4jt",
        "outputId": "91eed861-8d47-49ec-a043-82901cb7ff7e"
      },
      "execution_count": null,
      "outputs": [
        {
          "output_type": "execute_result",
          "data": {
            "text/plain": [
              "'sha'"
            ],
            "application/vnd.google.colaboratory.intrinsic+json": {
              "type": "string"
            }
          },
          "metadata": {},
          "execution_count": 3
        }
      ]
    },
    {
      "cell_type": "markdown",
      "source": [
        "set"
      ],
      "metadata": {
        "id": "TK7gggc_XJ8e"
      }
    },
    {
      "cell_type": "code",
      "source": [
        "la= set('mississsippi')\n",
        "la"
      ],
      "metadata": {
        "id": "rGoNhCz6K7dX",
        "colab": {
          "base_uri": "https://localhost:8080/"
        },
        "outputId": "36ba757a-2025-4a8c-da97-43ab03098810"
      },
      "execution_count": null,
      "outputs": [
        {
          "output_type": "execute_result",
          "data": {
            "text/plain": [
              "{'i', 'm', 'p', 's'}"
            ]
          },
          "metadata": {},
          "execution_count": 6
        }
      ]
    },
    {
      "cell_type": "code",
      "source": [
        "pwd\n"
      ],
      "metadata": {
        "colab": {
          "base_uri": "https://localhost:8080/",
          "height": 35
        },
        "id": "tlUq51E6lP9h",
        "outputId": "6dc48b81-b1c4-4899-dc91-010136fed575"
      },
      "execution_count": null,
      "outputs": [
        {
          "output_type": "execute_result",
          "data": {
            "text/plain": [
              "'/content'"
            ],
            "application/vnd.google.colaboratory.intrinsic+json": {
              "type": "string"
            }
          },
          "metadata": {},
          "execution_count": 7
        }
      ]
    },
    {
      "cell_type": "markdown",
      "source": [
        "  python statements , control flow statements make use of colons and indentation"
      ],
      "metadata": {
        "id": "QWiZi05FXR4O"
      }
    },
    {
      "cell_type": "code",
      "source": [
        "kaka ='black'\n",
        "\n",
        "if kaka=='blue':\n",
        "  print('kaka is blue')\n",
        "\n",
        "elif kaka=='red':\n",
        "  print('kaka is red')\n",
        "\n",
        "else:\n",
        "  print('kaka is always black')"
      ],
      "metadata": {
        "colab": {
          "base_uri": "https://localhost:8080/"
        },
        "id": "CuJnvkx_XWkX",
        "outputId": "65a22b95-4ec2-482f-8d60-bb612a41cb86"
      },
      "execution_count": null,
      "outputs": [
        {
          "output_type": "stream",
          "name": "stdout",
          "text": [
            "kaka is always black\n"
          ]
        }
      ]
    },
    {
      "cell_type": "markdown",
      "source": [
        "for loops"
      ],
      "metadata": {
        "id": "i0_jtNQniR4G"
      }
    },
    {
      "cell_type": "code",
      "source": [
        "list1=[1,2,3,4,5,6,7,8,9,10]\n",
        "\n",
        "for num in list1:\n",
        "  print(num)"
      ],
      "metadata": {
        "colab": {
          "base_uri": "https://localhost:8080/"
        },
        "id": "byUlyBCniTyd",
        "outputId": "36832173-773e-46c7-ad88-9fa5ca351813"
      },
      "execution_count": null,
      "outputs": [
        {
          "output_type": "stream",
          "name": "stdout",
          "text": [
            "1\n",
            "2\n",
            "3\n",
            "4\n",
            "5\n",
            "6\n",
            "7\n",
            "8\n",
            "9\n",
            "10\n"
          ]
        }
      ]
    },
    {
      "cell_type": "code",
      "source": [
        "list1=[1,2,3,4,5,6,7,8,9,10]\n",
        "\n",
        "for num in list1:\n",
        "  if num%2==0:\n",
        "    print(num)\n",
        "\n",
        "  else:\n",
        "    print(f' odd number: {num}')"
      ],
      "metadata": {
        "colab": {
          "base_uri": "https://localhost:8080/"
        },
        "id": "FFI4mSxaimso",
        "outputId": "371b2d1f-8dde-4f73-e97d-835a52428f36"
      },
      "execution_count": null,
      "outputs": [
        {
          "output_type": "stream",
          "name": "stdout",
          "text": [
            " odd number: 1\n",
            "2\n",
            " odd number: 3\n",
            "4\n",
            " odd number: 5\n",
            "6\n",
            " odd number: 7\n",
            "8\n",
            " odd number: 9\n",
            "10\n"
          ]
        }
      ]
    },
    {
      "cell_type": "markdown",
      "source": [
        "tuple unpacking"
      ],
      "metadata": {
        "id": "HioOL8YMkRW6"
      }
    },
    {
      "cell_type": "code",
      "source": [
        "listu=[('orange','banana'),('orange','apple'),('cherry','pine')]\n",
        "\n",
        "for a,b in listu:\n",
        "  print(a)"
      ],
      "metadata": {
        "colab": {
          "base_uri": "https://localhost:8080/"
        },
        "id": "vmIMXXSVkU-Y",
        "outputId": "d1277344-c435-48ac-c94e-57a1e167cf0c"
      },
      "execution_count": null,
      "outputs": [
        {
          "output_type": "stream",
          "name": "stdout",
          "text": [
            "orange\n",
            "orange\n",
            "cherry\n"
          ]
        }
      ]
    },
    {
      "cell_type": "code",
      "source": [
        "letter='shafeeq ahmed'\n",
        "for item in letter:\n",
        "  print(item)"
      ],
      "metadata": {
        "id": "vHeYzh_Kfyhm",
        "outputId": "7f74544a-7c93-4fc1-e6ed-816b2bae2101",
        "colab": {
          "base_uri": "https://localhost:8080/"
        }
      },
      "execution_count": null,
      "outputs": [
        {
          "output_type": "stream",
          "name": "stdout",
          "text": [
            "s\n",
            "h\n",
            "a\n",
            "f\n",
            "e\n",
            "e\n",
            "q\n",
            " \n",
            "a\n",
            "h\n",
            "m\n",
            "e\n",
            "d\n"
          ]
        }
      ]
    },
    {
      "cell_type": "markdown",
      "source": [
        "continue statement is where if the condition becomes true then it will skip  "
      ],
      "metadata": {
        "id": "cb-rjLlfO_bI"
      }
    },
    {
      "cell_type": "code",
      "source": [
        "x='shafeeq'\n",
        "for item in x:\n",
        "  if item=='a':\n",
        "    continue\n",
        "  print(item)"
      ],
      "metadata": {
        "id": "5qmwFXIoNDCh",
        "outputId": "b5b79a2f-0841-4f0c-d195-46769f8dbbe5",
        "colab": {
          "base_uri": "https://localhost:8080/"
        }
      },
      "execution_count": 11,
      "outputs": [
        {
          "output_type": "stream",
          "name": "stdout",
          "text": [
            "s\n",
            "h\n",
            "f\n",
            "e\n",
            "e\n",
            "q\n"
          ]
        }
      ]
    },
    {
      "cell_type": "code",
      "source": [
        "x='shafeeq'\n",
        "for item in x:\n",
        "  if item=='a':\n",
        "    break\n",
        "  print(item)"
      ],
      "metadata": {
        "id": "pv9xmlb7PUdi",
        "outputId": "f0b9ca1c-ba42-4442-a9dc-adee6e5733a1",
        "colab": {
          "base_uri": "https://localhost:8080/"
        }
      },
      "execution_count": 12,
      "outputs": [
        {
          "output_type": "stream",
          "name": "stdout",
          "text": [
            "s\n",
            "h\n"
          ]
        }
      ]
    },
    {
      "cell_type": "code",
      "source": [
        "x=0\n",
        "\n",
        "while x<10:\n",
        "  if x==5:\n",
        "    break\n",
        "  print(x)\n",
        "  x+=1"
      ],
      "metadata": {
        "id": "TSOJVD3JPplD",
        "outputId": "757b8b9a-c25a-4641-beca-58654d3469e0",
        "colab": {
          "base_uri": "https://localhost:8080/"
        }
      },
      "execution_count": 15,
      "outputs": [
        {
          "output_type": "stream",
          "name": "stdout",
          "text": [
            "0\n",
            "1\n",
            "2\n",
            "3\n",
            "4\n"
          ]
        }
      ]
    },
    {
      "cell_type": "markdown",
      "source": [
        "range function is same like slicing the diff is range is a generator"
      ],
      "metadata": {
        "id": "Agm8cODXSAwT"
      }
    },
    {
      "cell_type": "code",
      "source": [
        "list(range(2,10,2))\n"
      ],
      "metadata": {
        "id": "wYLpKIlkR1sn",
        "outputId": "948cdd82-370c-4f74-d1e9-0a396517de1c",
        "colab": {
          "base_uri": "https://localhost:8080/"
        }
      },
      "execution_count": 16,
      "outputs": [
        {
          "output_type": "execute_result",
          "data": {
            "text/plain": [
              "[2, 4, 6, 8]"
            ]
          },
          "metadata": {},
          "execution_count": 16
        }
      ]
    },
    {
      "cell_type": "code",
      "source": [
        "x=0\n",
        "item='ahmed'\n",
        "\n",
        "for i in item:\n",
        "  print('the x is {} and i is {}'.format(x,i))\n",
        "  x +=1"
      ],
      "metadata": {
        "id": "stpOOyOiSIdm",
        "outputId": "7adfa5de-6ec7-4250-b93c-ce6b219578d9",
        "colab": {
          "base_uri": "https://localhost:8080/"
        }
      },
      "execution_count": 21,
      "outputs": [
        {
          "output_type": "stream",
          "name": "stdout",
          "text": [
            "the x is 0 and i is a\n",
            "the x is 1 and i is h\n",
            "the x is 2 and i is m\n",
            "the x is 3 and i is e\n",
            "the x is 4 and i is d\n"
          ]
        }
      ]
    },
    {
      "cell_type": "markdown",
      "source": [
        "enum function"
      ],
      "metadata": {
        "id": "ybMEwf3dUe2_"
      }
    },
    {
      "cell_type": "code",
      "source": [
        "x='pocox3'\n",
        "for i in enumerate(x):\n",
        "  print(i)"
      ],
      "metadata": {
        "id": "zP-EmeSkUgf4",
        "outputId": "49263e4d-e727-4ad2-f4cb-05844fecc0d3",
        "colab": {
          "base_uri": "https://localhost:8080/"
        }
      },
      "execution_count": 23,
      "outputs": [
        {
          "output_type": "stream",
          "name": "stdout",
          "text": [
            "(0, 'p')\n",
            "(1, 'o')\n",
            "(2, 'c')\n",
            "(3, 'o')\n",
            "(4, 'x')\n",
            "(5, '3')\n"
          ]
        }
      ]
    },
    {
      "cell_type": "code",
      "source": [
        "l=['sha','fee','qq']\n",
        "\n",
        "print(list(enumerate(l)))"
      ],
      "metadata": {
        "id": "sQj4CjmqVcXR",
        "outputId": "89aae8c4-c3f5-4054-d503-5bddb48b7858",
        "colab": {
          "base_uri": "https://localhost:8080/"
        }
      },
      "execution_count": 26,
      "outputs": [
        {
          "output_type": "stream",
          "name": "stdout",
          "text": [
            "[(0, 'sha'), (1, 'fee'), (2, 'qq')]\n"
          ]
        }
      ]
    },
    {
      "cell_type": "code",
      "source": [
        "lala='shafeeq'\n",
        "mylist=[]\n",
        "for item in lala:\n",
        "  mylist.append(item)\n",
        "  mylist\n",
        ""
      ],
      "metadata": {
        "id": "ehYbQBoltj4H"
      },
      "execution_count": 8,
      "outputs": []
    },
    {
      "cell_type": "code",
      "source": [
        "la='bannari amman institute of technology'\n",
        "\n",
        "for word in la.split():\n",
        "  if word[0]=='b':\n",
        "    print(word)"
      ],
      "metadata": {
        "id": "MLHJkNby_3OJ",
        "outputId": "8a147a34-dd58-4734-98a1-87441d45c4b3",
        "colab": {
          "base_uri": "https://localhost:8080/"
        }
      },
      "execution_count": 28,
      "outputs": [
        {
          "output_type": "stream",
          "name": "stdout",
          "text": [
            "bannari\n"
          ]
        }
      ]
    },
    {
      "cell_type": "code",
      "source": [
        "list(range(0,11,2))"
      ],
      "metadata": {
        "id": "RAZVskrTAaCG",
        "outputId": "a8ebdc79-1ab0-4823-defa-c3dede78e050",
        "colab": {
          "base_uri": "https://localhost:8080/"
        }
      },
      "execution_count": 29,
      "outputs": [
        {
          "output_type": "execute_result",
          "data": {
            "text/plain": [
              "[0, 2, 4, 6, 8, 10]"
            ]
          },
          "metadata": {},
          "execution_count": 29
        }
      ]
    },
    {
      "cell_type": "code",
      "source": [
        "[x for x in range(1,51) if x%3==0]"
      ],
      "metadata": {
        "id": "yq2l2p8AAgqu",
        "outputId": "fad17ee4-7361-4e46-f227-37db2d0858c9",
        "colab": {
          "base_uri": "https://localhost:8080/"
        }
      },
      "execution_count": 30,
      "outputs": [
        {
          "output_type": "execute_result",
          "data": {
            "text/plain": [
              "[3, 6, 9, 12, 15, 18, 21, 24, 27, 30, 33, 36, 39, 42, 45, 48]"
            ]
          },
          "metadata": {},
          "execution_count": 30
        }
      ]
    },
    {
      "cell_type": "code",
      "source": [
        "la='bannari amman institute of technology'\n",
        "\n",
        "for word in la.split():\n",
        "  if len(word)%2==0:\n",
        "    print(word,'the word is even')"
      ],
      "metadata": {
        "id": "4qPrP8uwAwus",
        "outputId": "1029f6f6-9c7e-4297-83fa-9c9c4616e8a7",
        "colab": {
          "base_uri": "https://localhost:8080/"
        }
      },
      "execution_count": 33,
      "outputs": [
        {
          "output_type": "stream",
          "name": "stdout",
          "text": [
            "of the word is even\n",
            "technology the word is even\n"
          ]
        }
      ]
    },
    {
      "cell_type": "code",
      "source": [
        "for num in range(1,101):\n",
        "  if num%3==0:\n",
        "    print('Fizz')\n",
        "  elif num%5==0:\n",
        "    print('Buzz')\n",
        "  elif num%3==0 and num%5==0:\n",
        "    print('FizzBuzz')\n",
        "  else:\n",
        "    print(num)"
      ],
      "metadata": {
        "id": "rfFEY1_yBx6T",
        "outputId": "5a514430-2181-492a-da30-190d29b7bac0",
        "colab": {
          "base_uri": "https://localhost:8080/"
        }
      },
      "execution_count": 36,
      "outputs": [
        {
          "output_type": "stream",
          "name": "stdout",
          "text": [
            "1\n",
            "2\n",
            "Fizz\n",
            "4\n",
            "Buzz\n",
            "Fizz\n",
            "7\n",
            "8\n",
            "Fizz\n",
            "Buzz\n",
            "11\n",
            "Fizz\n",
            "13\n",
            "14\n",
            "Fizz\n",
            "16\n",
            "17\n",
            "Fizz\n",
            "19\n",
            "Buzz\n",
            "Fizz\n",
            "22\n",
            "23\n",
            "Fizz\n",
            "Buzz\n",
            "26\n",
            "Fizz\n",
            "28\n",
            "29\n",
            "Fizz\n",
            "31\n",
            "32\n",
            "Fizz\n",
            "34\n",
            "Buzz\n",
            "Fizz\n",
            "37\n",
            "38\n",
            "Fizz\n",
            "Buzz\n",
            "41\n",
            "Fizz\n",
            "43\n",
            "44\n",
            "Fizz\n",
            "46\n",
            "47\n",
            "Fizz\n",
            "49\n",
            "Buzz\n",
            "Fizz\n",
            "52\n",
            "53\n",
            "Fizz\n",
            "Buzz\n",
            "56\n",
            "Fizz\n",
            "58\n",
            "59\n",
            "Fizz\n",
            "61\n",
            "62\n",
            "Fizz\n",
            "64\n",
            "Buzz\n",
            "Fizz\n",
            "67\n",
            "68\n",
            "Fizz\n",
            "Buzz\n",
            "71\n",
            "Fizz\n",
            "73\n",
            "74\n",
            "Fizz\n",
            "76\n",
            "77\n",
            "Fizz\n",
            "79\n",
            "Buzz\n",
            "Fizz\n",
            "82\n",
            "83\n",
            "Fizz\n",
            "Buzz\n",
            "86\n",
            "Fizz\n",
            "88\n",
            "89\n",
            "Fizz\n",
            "91\n",
            "92\n",
            "Fizz\n",
            "94\n",
            "Buzz\n",
            "Fizz\n",
            "97\n",
            "98\n",
            "Fizz\n",
            "Buzz\n"
          ]
        }
      ]
    }
  ]
}